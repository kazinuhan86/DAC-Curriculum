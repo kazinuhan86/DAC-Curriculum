{
 "cells": [
  {
   "cell_type": "code",
   "execution_count": 1,
   "metadata": {},
   "outputs": [
    {
     "name": "stdout",
     "output_type": "stream",
     "text": [
      "['oranges', 'banana', 'tomato']\n"
     ]
    }
   ],
   "source": [
    "#Question1\n",
    "#(a)\n",
    "fruits = [\"apple\",\"oranges\",\"banana\"]\n",
    "#(b)\n",
    "fruits.append(\"tomato\")\n",
    "#(c)\n",
    "fruits.remove(\"apple\")\n",
    "\n",
    "print(fruits)"
   ]
  },
  {
   "cell_type": "code",
   "execution_count": 8,
   "metadata": {},
   "outputs": [
    {
     "name": "stdout",
     "output_type": "stream",
     "text": [
      "['physics', 'chemistry', 'english', 'math', 'biology', 'literature']\n",
      "Number of subjects before: 5\n",
      "Number of subjects after: 6\n"
     ]
    }
   ],
   "source": [
    "#Question2\n",
    "#(a)\n",
    "subject = ('physics','chemistry','english','math','biology')\n",
    "\n",
    "#(b)\n",
    "#subject.append(\"literature\")\n",
    "#cannot be appended. can be appended if tuple is converted to a list\n",
    "new_subject = list(subject)\n",
    "new_subject.append(\"literature\")\n",
    "print(new_subject)\n",
    "#(c)\n",
    "numofsubjects = (len(subject))\n",
    "newnumofsubjects = (len(new_subject))\n",
    "print(\"Number of subjects before:\", numofsubjects)\n",
    "print(\"Number of subjects after:\", newnumofsubjects)\n"
   ]
  },
  {
   "cell_type": "code",
   "execution_count": 6,
   "metadata": {},
   "outputs": [
    {
     "name": "stdout",
     "output_type": "stream",
     "text": [
      "[10, 9, 8, 7, 6, 3]\n",
      "[]\n"
     ]
    }
   ],
   "source": [
    "#Question3\n",
    "#(a)\n",
    "students_id =[10, 6, 7, 8, 9, 3]\n",
    "#(b)\n",
    "sorted_students_id = sorted(students_id)\n",
    "sorted_students_id.reverse()\n",
    "print(sorted_students_id)\n",
    "#(c)\n",
    "sorted_students_id.clear()\n",
    "print(sorted_students_id)"
   ]
  },
  {
   "cell_type": "code",
   "execution_count": 4,
   "metadata": {},
   "outputs": [
    {
     "name": "stdout",
     "output_type": "stream",
     "text": [
      "[15, 12, 9, 6, 3]\n"
     ]
    }
   ],
   "source": [
    "#Question 4\n",
    "desc_list = list(range(15, 0, -3))\n",
    "print(desc_list)\n"
   ]
  },
  {
   "cell_type": "code",
   "execution_count": 1,
   "metadata": {},
   "outputs": [
    {
     "name": "stdout",
     "output_type": "stream",
     "text": [
      "[2, 4, 6, 8, 10, 12, 14, 16, 18, 20, 22, 24, 26, 28]\n"
     ]
    }
   ],
   "source": [
    "#Question5\n",
    "asc_list = [2 + 2 * i for i in range(14)]\n",
    "print(asc_list)\n"
   ]
  },
  {
   "cell_type": "markdown",
   "metadata": {},
   "source": [
    "# Question 6"
   ]
  },
  {
   "cell_type": "code",
   "execution_count": 5,
   "metadata": {},
   "outputs": [
    {
     "name": "stdout",
     "output_type": "stream",
     "text": [
      "[2, 4, 6, 8, 10, 12, 14, 16, 18, 20, 22, 24, 26, 28, 15, 12, 9, 6, 3]\n"
     ]
    }
   ],
   "source": [
    "combined_list = asc_list + desc_list\n",
    "print(combined_list)"
   ]
  }
 ],
 "metadata": {
  "kernelspec": {
   "display_name": "Python 3",
   "language": "python",
   "name": "python3"
  },
  "language_info": {
   "codemirror_mode": {
    "name": "ipython",
    "version": 3
   },
   "file_extension": ".py",
   "mimetype": "text/x-python",
   "name": "python",
   "nbconvert_exporter": "python",
   "pygments_lexer": "ipython3",
   "version": "3.11.9"
  }
 },
 "nbformat": 4,
 "nbformat_minor": 2
}
